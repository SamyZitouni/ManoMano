{
 "cells": [
  {
   "cell_type": "code",
   "execution_count": 1,
   "metadata": {},
   "outputs": [],
   "source": [
    "import pandas as pd\n",
    "import nltk                                \n",
    "import matplotlib.pyplot as plt            \n",
    "import random    "
   ]
  },
  {
   "cell_type": "code",
   "execution_count": 2,
   "metadata": {},
   "outputs": [],
   "source": [
    "import re                                  # library for regular expression operations\n",
    "import string                              # for string operations\n",
    "\n",
    "from nltk.corpus import stopwords          # module for stop words that come with NLTK\n",
    "from nltk.stem import PorterStemmer        # module for stemming\n",
    "from nltk.tokenize import TweetTokenizer   # module for tokenizing strings"
   ]
  },
  {
   "cell_type": "code",
   "execution_count": 10,
   "metadata": {},
   "outputs": [
    {
     "name": "stderr",
     "output_type": "stream",
     "text": [
      "[nltk_data] Downloading package stopwords to\n",
      "[nltk_data]     C:\\Users\\leona\\AppData\\Roaming\\nltk_data...\n",
      "[nltk_data]   Unzipping corpora\\stopwords.zip.\n"
     ]
    },
    {
     "data": {
      "text/plain": [
       "True"
      ]
     },
     "execution_count": 10,
     "metadata": {},
     "output_type": "execute_result"
    }
   ],
   "source": [
    "nltk.download('stopwords')"
   ]
  },
  {
   "cell_type": "code",
   "execution_count": 3,
   "metadata": {},
   "outputs": [],
   "source": [
    "data=pd.read_csv(\"C:/Users/leona/OneDrive/Documents/ENSAE/2A/Statap/dataset_ensae_project.csv\")"
   ]
  },
  {
   "cell_type": "code",
   "execution_count": 4,
   "metadata": {},
   "outputs": [
    {
     "data": {
      "text/html": [
       "<div>\n",
       "<style scoped>\n",
       "    .dataframe tbody tr th:only-of-type {\n",
       "        vertical-align: middle;\n",
       "    }\n",
       "\n",
       "    .dataframe tbody tr th {\n",
       "        vertical-align: top;\n",
       "    }\n",
       "\n",
       "    .dataframe thead th {\n",
       "        text-align: right;\n",
       "    }\n",
       "</style>\n",
       "<table border=\"1\" class=\"dataframe\">\n",
       "  <thead>\n",
       "    <tr style=\"text-align: right;\">\n",
       "      <th></th>\n",
       "      <th>product_id</th>\n",
       "      <th>generic_id</th>\n",
       "      <th>article_id</th>\n",
       "      <th>image_url</th>\n",
       "      <th>product_name</th>\n",
       "      <th>product_description</th>\n",
       "      <th>category_id</th>\n",
       "      <th>platform</th>\n",
       "      <th>attribute_dict</th>\n",
       "    </tr>\n",
       "  </thead>\n",
       "  <tbody>\n",
       "    <tr>\n",
       "      <th>0</th>\n",
       "      <td>57</td>\n",
       "      <td>57</td>\n",
       "      <td>57</td>\n",
       "      <td>cdn.manomano.fr/images/images_products/10/P/57...</td>\n",
       "      <td>Raccord biconique olive F3/8 (12/17) pour cuiv...</td>\n",
       "      <td>&lt;p&gt;Raccord biconique olive F3/8 (12/17) pour c...</td>\n",
       "      <td>1555</td>\n",
       "      <td>FR</td>\n",
       "      <td>{'attribute': 'Filetage 1', 'value': '3/8\" (12...</td>\n",
       "    </tr>\n",
       "    <tr>\n",
       "      <th>1</th>\n",
       "      <td>58</td>\n",
       "      <td>58</td>\n",
       "      <td>57</td>\n",
       "      <td>cdn.manomano.fr/images/images_products/10/P/58...</td>\n",
       "      <td>Raccord biconique olive F1/2 (15/21) pour cuiv...</td>\n",
       "      <td>&lt;p&gt;Raccord biconique olive F1/2 (15/21) pour c...</td>\n",
       "      <td>1555</td>\n",
       "      <td>FR</td>\n",
       "      <td>{'attribute': 'Filetage 1', 'value': '1/2\" (15...</td>\n",
       "    </tr>\n",
       "    <tr>\n",
       "      <th>2</th>\n",
       "      <td>59</td>\n",
       "      <td>59</td>\n",
       "      <td>57</td>\n",
       "      <td>cdn.manomano.fr/images/images_products/10/P/59...</td>\n",
       "      <td>Raccord biconique olive F1/2 (15/21) pour cuiv...</td>\n",
       "      <td>&lt;p&gt;Raccord biconique olive F1/2 (15/21) pour c...</td>\n",
       "      <td>1555</td>\n",
       "      <td>FR</td>\n",
       "      <td>{'attribute': 'Filetage 1', 'value': '1/2\" (15...</td>\n",
       "    </tr>\n",
       "    <tr>\n",
       "      <th>3</th>\n",
       "      <td>60</td>\n",
       "      <td>60</td>\n",
       "      <td>57</td>\n",
       "      <td>cdn.manomano.fr/images/images_products/10/P/60...</td>\n",
       "      <td>Raccord biconique olive F1/2 (15/21) pour cuiv...</td>\n",
       "      <td>&lt;p&gt;Raccord biconique olive F1/2 (15/21) pour c...</td>\n",
       "      <td>1555</td>\n",
       "      <td>FR</td>\n",
       "      <td>{'attribute': 'Filetage 1', 'value': '1/2\" (15...</td>\n",
       "    </tr>\n",
       "    <tr>\n",
       "      <th>4</th>\n",
       "      <td>61</td>\n",
       "      <td>61</td>\n",
       "      <td>57</td>\n",
       "      <td>cdn.manomano.fr/images/images_products/10/P/61...</td>\n",
       "      <td>Raccord biconique olive F3/4 (20/27) pour cuiv...</td>\n",
       "      <td>&lt;p&gt;Raccord biconique olive F3/4 (20/27) pour c...</td>\n",
       "      <td>1555</td>\n",
       "      <td>FR</td>\n",
       "      <td>{'attribute': 'Filetage 1', 'value': '3/4\" (20...</td>\n",
       "    </tr>\n",
       "  </tbody>\n",
       "</table>\n",
       "</div>"
      ],
      "text/plain": [
       "   product_id  generic_id  article_id  \\\n",
       "0          57          57          57   \n",
       "1          58          58          57   \n",
       "2          59          59          57   \n",
       "3          60          60          57   \n",
       "4          61          61          57   \n",
       "\n",
       "                                           image_url  \\\n",
       "0  cdn.manomano.fr/images/images_products/10/P/57...   \n",
       "1  cdn.manomano.fr/images/images_products/10/P/58...   \n",
       "2  cdn.manomano.fr/images/images_products/10/P/59...   \n",
       "3  cdn.manomano.fr/images/images_products/10/P/60...   \n",
       "4  cdn.manomano.fr/images/images_products/10/P/61...   \n",
       "\n",
       "                                        product_name  \\\n",
       "0  Raccord biconique olive F3/8 (12/17) pour cuiv...   \n",
       "1  Raccord biconique olive F1/2 (15/21) pour cuiv...   \n",
       "2  Raccord biconique olive F1/2 (15/21) pour cuiv...   \n",
       "3  Raccord biconique olive F1/2 (15/21) pour cuiv...   \n",
       "4  Raccord biconique olive F3/4 (20/27) pour cuiv...   \n",
       "\n",
       "                                 product_description  category_id platform  \\\n",
       "0  <p>Raccord biconique olive F3/8 (12/17) pour c...         1555       FR   \n",
       "1  <p>Raccord biconique olive F1/2 (15/21) pour c...         1555       FR   \n",
       "2  <p>Raccord biconique olive F1/2 (15/21) pour c...         1555       FR   \n",
       "3  <p>Raccord biconique olive F1/2 (15/21) pour c...         1555       FR   \n",
       "4  <p>Raccord biconique olive F3/4 (20/27) pour c...         1555       FR   \n",
       "\n",
       "                                      attribute_dict  \n",
       "0  {'attribute': 'Filetage 1', 'value': '3/8\" (12...  \n",
       "1  {'attribute': 'Filetage 1', 'value': '1/2\" (15...  \n",
       "2  {'attribute': 'Filetage 1', 'value': '1/2\" (15...  \n",
       "3  {'attribute': 'Filetage 1', 'value': '1/2\" (15...  \n",
       "4  {'attribute': 'Filetage 1', 'value': '3/4\" (20...  "
      ]
     },
     "execution_count": 4,
     "metadata": {},
     "output_type": "execute_result"
    }
   ],
   "source": [
    "data.head()"
   ]
  },
  {
   "cell_type": "code",
   "execution_count": 5,
   "metadata": {},
   "outputs": [
    {
     "name": "stdout",
     "output_type": "stream",
     "text": [
      "Mamelon reduit m1' -f3/8\n",
      "<p>Raccord réduit mâle - femelle laiton (photo non contractuelle) (livraison en corse uniquement en mondial relay)</p>\n",
      "--------------\n",
      "Té 90° laiton à visser FF 3/4 - Catégorie Raccord laiton\n",
      "<span><p><span>Raccord laiton à visser, norme A.C.S (Atestation de Conformité Sanitaire)</span></p></span><br />Type de raccord : Té Type de montage : A visser Diamètre : 3/4 Pression maxi (Pn) : 25 bars\n",
      "--------------\n",
      "1000 vis bois en bandes D. 4 x 35 mm galavanisées PZ2 - 10440035 - Alsafix - -\n",
      "<p>Vis tête fraisée, pointe éfilée pour un pointage précis. Utilisation : Structure bois. Empreinte Pozidriv PZ N°2. Epaisseur : 4 mm. Longueur totale vis : 35 mm. Longueur filetage : 30 mm. Diamètre tête : 8 mm. Compatible visseuse VB5518 et FOX55D.</p><ul><li>Visserie : 1000 vis bois en bandes D. 4 x 35 mm galavanisées PZ2 - 10440035 - Alsafix</li><li>Type : Vis bois - Matière : Acier - Empreinte : PZ2 - Pozidriv - tête de la vis : TF - Tête fraisée - Longueur : ..@35 mm - traitement : Galvanisé</li></ul>\n",
      "--------------\n",
      "Vis à bois tête hexagonale zingué (boîte) (8 - 50 - 200) - Ø mm : 8 - Long. mm : 50 - Nb de pièces par boîte : 200\n",
      "Vis à bois tête hexagonale.<br />Zingué blanc.<br />Conditionnement à la boîte.<br /><br /><strong>Caractéristiques :</strong><br />- Ø mm : 8<br />- Long. mm : 50<br />- Nb de pièces par boîte : 200\n",
      "--------------\n",
      "Raccord Mâle en laiton - Pour raccordement polyéthylène - Diamètre 20 mm - Filetage 15/21\n",
      "<p>Diamètre 20 mm - Filetage 15/21 - Fournisseur: Sanitaire-distribution - Reference: 624004 - Pression de service : 16 bar<br />Température de service : 40°C<br /></p>\n",
      "--------------\n",
      "Vis Viswood TF PZ 6 X100 boîte de 100\n",
      "<p>Vis Viswood TF PZ 6 X100 boîte de 100</p>\n",
      "--------------\n",
      "TE REDUIT 130 CU 18-16-18 SUDO THERMADOR 5130181618\n",
      "<p>SUDO cuivre à souder, le raccord traditionnel Garantie 10 ans</p>\n",
      "--------------\n",
      "Vanne à sphère équerre laiton chromé pour lavabo CU12-CU10 à commande par tournevis - Ø12, sortie 12 - Sferaco\n",
      "<b>Présentation</b><br />Vanne pour lavabo en laiton 4 MS, ACS à boisseau sphérique commande par tournevispour les réseaux d'adduction et de distribution d'eau.<br />Sortie à bicones pour tube cuivre ou mâle BSP.<br />L'étanchéité est assurée par un joint torique NBR.<br />Compatible avec les réseaux d'eau potable grâce à l'attestation de conformité sanitaire (ACS).<br />Sferaco\n",
      "--------------\n"
     ]
    }
   ],
   "source": [
    "liste=[random.randint(0,2000) for i in range(8)]\n",
    "for i in liste:\n",
    "    print(data[\"product_name\"].iloc[i])\n",
    "    print(data[\"product_description\"].iloc[i])\n",
    "    print(\"--------------\")\n",
    "    "
   ]
  },
  {
   "cell_type": "code",
   "execution_count": 5,
   "metadata": {},
   "outputs": [
    {
     "name": "stdout",
     "output_type": "stream",
     "text": [
      "{'attribute': 'Type de raccordement', 'value': 'Mâle', 'type': 'textual'}\n",
      "Vanne à sphère équerre laiton chromé pour lavabo CU12-CU10 à commande par tournevis - Ø12, sortie 12 - Sferaco\n",
      "--------------\n",
      "{'attribute': 'Filetage 1', 'value': '1\"1/4 (33 x 42)', 'type': 'textual'}\n",
      "Té laiton FFF 33x42\n",
      "--------------\n",
      "{'attribute': 'Filetage 2', 'value': '1/2\" (15 x 21)', 'type': 'textual'}\n",
      "Coude laiton bicône égal O16\n",
      "--------------\n",
      "{'attribute': 'Filetage 2', 'value': '1/2\" (15 x 21)', 'type': 'textual'}\n",
      "La réduction de la connexion de raccords de tuyauterie femelle manchon chromé 1/2 'x 3/8'\n",
      "--------------\n",
      "{'attribute': 'Filetage 2', 'value': '1\"1/4 (33 x 42)', 'type': 'textual'}\n",
      "Douille en laiton GARDENA Gardena G 1 1/4 Gew.,1 1/4-Schl.\n",
      "--------------\n",
      "{'attribute': 'Diamètre', 'value': '10.000', 'type': 'numeric'}\n",
      "Vis à bois tête hexagonale zingué (boîte) (10 - 160 - 50) - Ø mm : 10 - Long. mm : 160 - Nb de pièces par boîte : 50\n",
      "--------------\n",
      "{'attribute': 'Forme', 'value': 'Égal', 'type': 'textual'}\n",
      "Rac.tof-pe te d.25\n",
      "--------------\n",
      "{'attribute': 'Filetage 1', 'value': '3/4\" (20 x 27)', 'type': 'textual'}\n",
      "Mamelon réduit laiton à visser 3/4-3/8 de Codital - Raccord laiton\n",
      "--------------\n"
     ]
    }
   ],
   "source": [
    "liste=[random.randint(0,2000) for i in range(8)]\n",
    "for i in liste:\n",
    "    print(data[\"attribute_dict\"].iloc[i])\n",
    "    print(data[\"product_name\"].iloc[i])\n",
    "    print(\"--------------\")"
   ]
  },
  {
   "cell_type": "code",
   "execution_count": 7,
   "metadata": {},
   "outputs": [
    {
     "name": "stdout",
     "output_type": "stream",
     "text": [
      " Permet de raccorder un élément à visser (raccord, flexible, robinet",
      ") sur un tube en cuivre (en soudant) Précaution : nettoyer le cuivre très soigneusement (extérieur ET intérieur), avec du papier abrasif ou une brosse en métal photos non contractuelles\n",
      "\n",
      "<P><ul><li> Permet de raccorder un élément à visser (raccord, flexible, robinet",
      ") sur un tube en cuivre (en soudant)</li><li> Précaution : nettoyer le cuivre très soigneusement (extérieur ET intérieur), avec du papier abrasif ou une brosse en métal</li><li> photos non contractuelles</li></ul></P>\n"
     ]
    }
   ],
   "source": [
    "from bs4 import BeautifulSoup\n",
    "\n",
    "def gettext(html):\n",
    "    return BeautifulSoup(html).get_text()\n",
    "\n",
    "data2 = data.copy()\n",
    "\n",
    "data2.product_description = data2.product_description.apply(gettext)\n",
    "\n",
    "n=random.randint(0,2000)\n",
    "print(data2[\"product_description\"].iloc[n])\n",
    "print()\n",
    "print(data[\"product_description\"].iloc[n])"
   ]
  },
  {
   "cell_type": "code",
   "execution_count": 10,
   "metadata": {},
   "outputs": [
    {
     "name": "stdout",
     "output_type": "stream",
     "text": [
      "Caractéristiques :Type : TirefondDiamètre D (mm) : 8Longueur L (mm) : 40Longueur LF (mm) : 40Longueur S (mm) : 136 pans : 1Nombre de pièce : 200Longueur K (mm) : 5.5\n",
      "----------------------------\n",
      "Tweet Tokenizer:\n",
      "['Caractéristiques', ':', 'Type', ':', 'TirefondDiamètre', 'D', '(', 'mm', ')', ':', '8Longueur', 'L', '(', 'mm', ')', ':', '40Longueur', 'LF', '(', 'mm', ')', ':', '40Longueur', 'S', '(', 'mm', ')', ':', '136', 'pans', ':', '1Nombre', 'de', 'pièce', ':', '200Longueur', 'K', '(', 'mm', ')', ':', '5.5']\n",
      "----------------------------\n",
      "Treeband Tokenizer:\n",
      "['Caractéristiques', ':', 'Type', ':', 'TirefondDiamètre', 'D', '(', 'mm', ')', ':', '8Longueur', 'L', '(', 'mm', ')', ':', '40Longueur', 'LF', '(', 'mm', ')', ':', '40Longueur', 'S', '(', 'mm', ')', ':', '136', 'pans', ':', '1Nombre', 'de', 'pièce', ':', '200Longueur', 'K', '(', 'mm', ')', ':', '5.5']\n",
      "----------------------------\n",
      "Toktok Tokenizer:\n",
      "['Caractéristiques', ':', 'Type', ':', 'TirefondDiamètre', 'D', '(', 'mm', ')', ':', '8Longueur', 'L', '(', 'mm', ')', ':', '40Longueur', 'LF', '(', 'mm', ')', ':', '40Longueur', 'S', '(', 'mm', ')', ':', '136', 'pans', ':', '1Nombre', 'de', 'pièce', ':', '200Longueur', 'K', '(', 'mm', ')', ':', '5.5']\n"
     ]
    }
   ],
   "source": [
    "txt=data2[\"product_description\"].iloc[random.randint(0,2000)]\n",
    "from nltk.tokenize import TreebankWordTokenizer\n",
    "from nltk.tokenize import ToktokTokenizer\n",
    "# instantiate tokenizer class\n",
    "tweet_tokenizer = TweetTokenizer()#preserve_case=False, strip_handles=True,\n",
    "                               #reduce_len=True)\n",
    "\n",
    "tree_tokenizer=TreebankWordTokenizer()\n",
    "toktok_tokenizer=ToktokTokenizer()\n",
    "# tokenize tweets\n",
    "tweet_tokens = tweet_tokenizer.tokenize(txt)\n",
    "tree_tokens=tree_tokenizer.tokenize(txt)\n",
    "toktok_tokens=toktok_tokenizer.tokenize(txt)\n",
    "\n",
    "print(txt)\n",
    "print(\"----------------------------\")\n",
    "print('Tweet Tokenizer:')\n",
    "print(tweet_tokens)\n",
    "print(\"----------------------------\")\n",
    "print('Treeband Tokenizer:')\n",
    "print(tree_tokens)\n",
    "print(\"----------------------------\")\n",
    "print('Toktok Tokenizer:')\n",
    "print(toktok_tokens)"
   ]
  },
  {
   "cell_type": "code",
   "execution_count": 11,
   "metadata": {},
   "outputs": [
    {
     "name": "stdout",
     "output_type": "stream",
     "text": [
      "Stop words\n",
      "\n",
      "['au', 'aux', 'avec', 'ce', 'ces', 'dans', 'de', 'des', 'du', 'elle', 'en', 'et', 'eux', 'il', 'ils', 'je', 'la', 'le', 'les', 'leur', 'lui', 'ma', 'mais', 'me', 'même', 'mes', 'moi', 'mon', 'ne', 'nos', 'notre', 'nous', 'on', 'ou', 'par', 'pas', 'pour', 'qu', 'que', 'qui', 'sa', 'se', 'ses', 'son', 'sur', 'ta', 'te', 'tes', 'toi', 'ton', 'tu', 'un', 'une', 'vos', 'votre', 'vous', 'c', 'd', 'j', 'l', 'à', 'm', 'n', 's', 't', 'y', 'été', 'étée', 'étées', 'étés', 'étant', 'étante', 'étants', 'étantes', 'suis', 'es', 'est', 'sommes', 'êtes', 'sont', 'serai', 'seras', 'sera', 'serons', 'serez', 'seront', 'serais', 'serait', 'serions', 'seriez', 'seraient', 'étais', 'était', 'étions', 'étiez', 'étaient', 'fus', 'fut', 'fûmes', 'fûtes', 'furent', 'sois', 'soit', 'soyons', 'soyez', 'soient', 'fusse', 'fusses', 'fût', 'fussions', 'fussiez', 'fussent', 'ayant', 'ayante', 'ayantes', 'ayants', 'eu', 'eue', 'eues', 'eus', 'ai', 'as', 'avons', 'avez', 'ont', 'aurai', 'auras', 'aura', 'aurons', 'aurez', 'auront', 'aurais', 'aurait', 'aurions', 'auriez', 'auraient', 'avais', 'avait', 'avions', 'aviez', 'avaient', 'eut', 'eûmes', 'eûtes', 'eurent', 'aie', 'aies', 'ait', 'ayons', 'ayez', 'aient', 'eusse', 'eusses', 'eût', 'eussions', 'eussiez', 'eussent']\n",
      "\n",
      "Ponctuation\n",
      "\n",
      "!\"#$%&'()*+,-./:;<=>?@[\\]^_`{|}~\n"
     ]
    }
   ],
   "source": [
    "stopwords_fr = stopwords.words('french') \n",
    "ponctuation= string.punctuation\n",
    "\n",
    "print('Stop words\\n')\n",
    "print(stopwords_fr)\n",
    "\n",
    "print('\\nPonctuation\\n')\n",
    "print(ponctuation)"
   ]
  },
  {
   "cell_type": "code",
   "execution_count": 12,
   "metadata": {},
   "outputs": [
    {
     "data": {
      "text/plain": [
       "str"
      ]
     },
     "execution_count": 12,
     "metadata": {},
     "output_type": "execute_result"
    }
   ],
   "source": [
    "type(data2[\"product_description\"].iloc[3])"
   ]
  },
  {
   "cell_type": "code",
   "execution_count": 13,
   "metadata": {},
   "outputs": [],
   "source": [
    "def cleaning(string):\n",
    "    tree_tokenizer=TreebankWordTokenizer()\n",
    "    tree_tokens=tree_tokenizer.tokenize(string)\n",
    "    tweets_clean = []\n",
    "    for word in tree_tokens: # Go through every word in your tokens list\n",
    "        if (word not in stopwords_fr and  # remove stopwords\n",
    "            word not in ponctuation):  # remove punctuation\n",
    "            tweets_clean.append(word)\n",
    "    mot=tweets_clean[0]\n",
    "    for i in range(1,len(tweets_clean)):\n",
    "        mot=mot + \" \" + tweets_clean[i]\n",
    "    return(mot)"
   ]
  },
  {
   "cell_type": "code",
   "execution_count": 14,
   "metadata": {},
   "outputs": [
    {
     "data": {
      "text/plain": [
       "'Je plage PNL fait 50°C'"
      ]
     },
     "execution_count": 14,
     "metadata": {},
     "output_type": "execute_result"
    }
   ],
   "source": [
    "cleaning('Je suis à la plage avec PNL, il fait 50°C !')"
   ]
  },
  {
   "cell_type": "code",
   "execution_count": 15,
   "metadata": {},
   "outputs": [],
   "source": [
    "df=data2.copy()\n",
    "df[\"product_name\"]=df[\"product_name\"].apply(cleaning)\n",
    "df[\"product_description\"]=df[\"product_description\"].apply(cleaning)"
   ]
  },
  {
   "cell_type": "code",
   "execution_count": 73,
   "metadata": {},
   "outputs": [
    {
     "data": {
      "text/plain": [
       "1555    1206\n",
       "1322    1030\n",
       "Name: category_id, dtype: int64"
      ]
     },
     "execution_count": 73,
     "metadata": {},
     "output_type": "execute_result"
    }
   ],
   "source": [
    "df[\"category_id\"].value_counts()"
   ]
  },
  {
   "cell_type": "code",
   "execution_count": 66,
   "metadata": {},
   "outputs": [
    {
     "data": {
      "text/plain": [
       "\"Raccord laiton visser Ecrou collet battu livré sans joint Utilisation Plomberie généraleFabrication Raccord forgé usiné raccord décolletageRaccordement Gaz G ISO 228-1 BSPP Pression PN 16 BarTempérature dépend type d'étanchéité choisie ruban PTFE joint élastomère joint fibre colle ...\""
      ]
     },
     "execution_count": 66,
     "metadata": {},
     "output_type": "execute_result"
    }
   ],
   "source": [
    "df[\"product_description\"].iloc[1240]"
   ]
  },
  {
   "cell_type": "code",
   "execution_count": 137,
   "metadata": {},
   "outputs": [
    {
     "data": {
      "text/plain": [
       "'Torche VARTA Work Flex Area Light 3AA'"
      ]
     },
     "execution_count": 137,
     "metadata": {},
     "output_type": "execute_result"
    }
   ],
   "source": [
    "df[df[\"category_id\"]==1322][\"product_name\"].iloc[958]"
   ]
  },
  {
   "cell_type": "code",
   "execution_count": 136,
   "metadata": {},
   "outputs": [
    {
     "name": "stdout",
     "output_type": "stream",
     "text": [
      "5 [170, 455, 542, 634, 958]\n"
     ]
    }
   ],
   "source": [
    "n=len(df[df[\"category_id\"]==1322][\"product_description\"])\n",
    "s=0\n",
    "l=[]\n",
    "att=[\"vis\",\"Vis\",\"VIS\",\"VBA\",\"VBA/VIS\",\"TIREFOND\",\"tirefond\",\"Tirefond\",\"TEKOR\",\"tekor\",\"Tekor\",\"VBA3\",\"SPAX\",\"Spax\"]\n",
    "\n",
    "for i in range(n):\n",
    "    tree_tokenizer=TreebankWordTokenizer()\n",
    "    tree_tokens_desc=tree_tokenizer.tokenize(df[df[\"category_id\"]==1322][\"product_description\"].iloc[i])\n",
    "    tree_tokens_name=tree_tokenizer.tokenize(df[df[\"category_id\"]==1322][\"product_name\"].iloc[i])\n",
    "    x=0\n",
    "    for el in att:\n",
    "        if el in tree_tokens_desc or el in tree_tokens_name:\n",
    "            x+=1\n",
    "    if x>0:\n",
    "        s+=1\n",
    "    else:\n",
    "        l.append(i)\n",
    "print(n-s,l)"
   ]
  },
  {
   "cell_type": "code",
   "execution_count": 146,
   "metadata": {},
   "outputs": [
    {
     "data": {
      "text/plain": [
       "'RIEGLER Vis cloison M54x2 a. G 1 1/2 i. SW1 60 SW2 65 Laiton'"
      ]
     },
     "execution_count": 146,
     "metadata": {},
     "output_type": "execute_result"
    }
   ],
   "source": [
    "df[df[\"category_id\"]==1555][\"product_name\"].iloc[1107]"
   ]
  },
  {
   "cell_type": "code",
   "execution_count": 141,
   "metadata": {},
   "outputs": [
    {
     "name": "stdout",
     "output_type": "stream",
     "text": [
      "3 [591, 1051, 1107]\n"
     ]
    }
   ],
   "source": [
    "n=len(df[df[\"category_id\"]==1555][\"product_description\"])\n",
    "s=0\n",
    "l=[]\n",
    "att=[\"vis\",\"Vis\",\"VIS\",\"VBA\",\"VBA/VIS\",\"TIREFOND\",\"tirefond\",\"Tirefond\",\"TEKOR\",\"tekor\",\"Tekor\",\"VBA3\",\"SPAX\",\"Spax\"]\n",
    "\n",
    "for i in range(n):\n",
    "    tree_tokenizer=TreebankWordTokenizer()\n",
    "    tree_tokens_desc=tree_tokenizer.tokenize(df[df[\"category_id\"]==1555][\"product_description\"].iloc[i])\n",
    "    tree_tokens_name=tree_tokenizer.tokenize(df[df[\"category_id\"]==1555][\"product_name\"].iloc[i])\n",
    "    x=0\n",
    "    for el in att:\n",
    "        if el in tree_tokens_desc or el in tree_tokens_name:\n",
    "            x+=1\n",
    "    if x>0:\n",
    "        l.append(i)\n",
    "    else:\n",
    "        s+=1\n",
    "print(n-s,l)"
   ]
  },
  {
   "cell_type": "code",
   "execution_count": 18,
   "metadata": {},
   "outputs": [
    {
     "name": "stdout",
     "output_type": "stream",
     "text": [
      "Manchon mâle souder Raccord laiton Fig.243 GCu photo non contractuelle livraison corse uniquement mondial relay\n",
      "---------------------------------\n",
      " Avec portée intérieure\n",
      "---------------------------------\n",
      "RACCORD UNION 3P M33X42-32 027853 pièces joint sphéro-coniqueDésignation Union droitFiletage Mâle 1 1/4Diamètre mm 32Vendu 1\n",
      "---------------------------------\n",
      "Permet raccorder élément visser raccord flexible robinet… tube cuivre soudant Précaution nettoyer cuivre très soigneusement extérieur ET intérieur papier abrasif brosse métal photos non contractuelles\n",
      "---------------------------------\n",
      "Mamelon double mâle laiton visser 280.Système traditionnel.- Démontable réutilisable.- Montage facile 2 clés plates.Utilisations Alimentation eau chaude froide- Chauffage- Sur tube cuivre barre couronne\n",
      "---------------------------------\n",
      "Caractéristiques Type Kit réparationNombre pièce 1\n",
      "---------------------------------\n",
      "Té égal Corps laiton tubes PER multicouche photo non contractuelle livraison corse uniquement mondial relay\n",
      "---------------------------------\n",
      "Raccord F20x27 laiton 5/16 8 mm John Guest\n",
      "---------------------------------\n"
     ]
    }
   ],
   "source": [
    "liste=[random.randint(0,1000) for i in range(8)]\n",
    "for i in liste:\n",
    "    print(df[df[\"category_id\"]==1555][\"product_description\"].iloc[i])\n",
    "    print(\"---------------------------------\")"
   ]
  },
  {
   "cell_type": "code",
   "execution_count": null,
   "metadata": {},
   "outputs": [],
   "source": []
  }
 ],
 "metadata": {
  "kernelspec": {
   "display_name": "Python 3",
   "language": "python",
   "name": "python3"
  },
  "language_info": {
   "codemirror_mode": {
    "name": "ipython",
    "version": 3
   },
   "file_extension": ".py",
   "mimetype": "text/x-python",
   "name": "python",
   "nbconvert_exporter": "python",
   "pygments_lexer": "ipython3",
   "version": "3.7.6"
  }
 },
 "nbformat": 4,
 "nbformat_minor": 4
}
